{
 "cells": [
  {
   "cell_type": "code",
   "execution_count": 1,
   "metadata": {
    "scrolled": true
   },
   "outputs": [],
   "source": [
    "import os\n",
    "os.environ[\"CUDA_DEVICE_ORDER\"]=\"PCI_BUS_ID\"   # see issue #152\n",
    "os.environ[\"CUDA_VISIBLE_DEVICES\"]=\"0\"\n",
    "from tensorflow.keras import applications\n",
    "from tensorflow.keras.preprocessing.image import ImageDataGenerator\n",
    "from tensorflow.keras import optimizers\n",
    "from tensorflow.keras.models import Sequential, Model\n",
    "from tensorflow.keras.layers import Dropout, Flatten, Dense, GlobalAveragePooling2D\n",
    "from tensorflow.keras import backend as k\n",
    "from tensorflow.keras.callbacks import ModelCheckpoint, LearningRateScheduler, TensorBoard, EarlyStopping\n",
    "from tensorflow.keras.applications.inception_v3 import InceptionV3\n",
    "from tensorflow.keras.layers import Conv2D, Flatten, MaxPooling2D, Activation\n",
    "from tensorflow.keras.models import Sequential\n",
    "from tensorflow.keras.layers import Dense, Input, Activation\n",
    "#from tensorflow.keras.layers.normalization import BatchNormalization\n",
    "import matplotlib.pyplot as plt\n",
    "import time\n",
    "import numpy as np\n",
    "import cv2\n",
    "from numpy import newaxis\n",
    "import time\n",
    "from sklearn.utils import resample\n",
    "from sklearn.metrics import classification_report,accuracy_score, confusion_matrix\n",
    "import gc\n"
   ]
  },
  {
   "cell_type": "code",
   "execution_count": 2,
   "metadata": {
    "scrolled": true
   },
   "outputs": [],
   "source": [
    "def predimg(model, imgs, bs):\n",
    "    #print(imrs)\n",
    "    #start_time=time.time()\n",
    "\n",
    "    preds = model.predict(imgs)\n",
    "\n",
    "    #print(preds)\n",
    "    predicted_class = np.argmax(preds, axis=1)\n",
    "    #print(predicted_class)\n",
    "    prob = np.empty(bs)\n",
    "    score1 = np.empty(bs)\n",
    "    for i in range(bs):\n",
    "        prob[i] = preds[i][predicted_class[i]]\n",
    "        score1[i] = preds[i][1]\n",
    "\n",
    "    #print(prob)\n",
    "    return predicted_class, prob, score1"
   ]
  },
  {
   "cell_type": "code",
   "execution_count": 3,
   "metadata": {},
   "outputs": [
    {
     "name": "stdout",
     "output_type": "stream",
     "text": [
      "{'0': 0, '1': 1, '10': 2, '11': 3, '12': 4, '2': 5, '3': 6, '4': 7, '5': 8, '6': 9, '7': 10, '8': 11, '9': 12}\n",
      "{0: 0, 1: 1, 2: 10, 3: 11, 4: 12, 5: 2, 6: 3, 7: 4, 8: 5, 9: 6, 10: 7, 11: 8, 12: 9}\n"
     ]
    }
   ],
   "source": [
    "import pickle\n",
    "class_indices = pickle.load( open( \"testnnv2-onenewnetv2.p\", \"rb\" ) )\n",
    "print(class_indices)\n",
    "\n",
    "class_inv_map = {v: int(k) for k, v in class_indices.items()}\n",
    "\n",
    "print(class_inv_map)"
   ]
  },
  {
   "cell_type": "code",
   "execution_count": 4,
   "metadata": {
    "scrolled": true
   },
   "outputs": [],
   "source": [
    "import glob\n",
    "\n",
    "    \n",
    "from tensorflow.keras.models import load_model\n",
    "model = load_model('one/0_ov4nnnewnet_f0.8_d0.5_l0.01.h5')\n",
    "#model = load_model('nnparasnet_f32_d0.2_l0.001.h5')\n"
   ]
  },
  {
   "cell_type": "code",
   "execution_count": 5,
   "metadata": {
    "scrolled": true
   },
   "outputs": [],
   "source": [
    "def genresult(X_test):\n",
    "    bsize = 32\n",
    "    #print(X_test)\n",
    "    flen = len(X_test)\n",
    "\n",
    "    rlen = flen//bsize\n",
    "    #rlen = 1\n",
    "\n",
    "    rst = flen - rlen * bsize\n",
    "\n",
    "    print('Lens:', flen, 'Blocks:', rlen, 'Bsize:', bsize, 'Rst:', rst)\n",
    "\n",
    "    t1 = time.time()\n",
    "    data = np.zeros((bsize, 120,120,3), dtype=np.float32)\n",
    "\n",
    "    if rst:\n",
    "        rlen = rlen + 1\n",
    "    y_pred = np.array([])\n",
    "    y_prob = np.array([])\n",
    "    y_score1= np.array([])\n",
    "    for i in range(rlen):\n",
    "        bs = bsize\n",
    "        if rst and i == (rlen -1):\n",
    "            bs = rst\n",
    "        for j in range(bs):\n",
    "            fid = i*bsize + j\n",
    "            image = cv2.imread(X_test[fid])\n",
    "            imrs = image.astype(float)\n",
    "            imrs = imrs / 255.0\n",
    "            data[j,:,:,:] = imrs\n",
    "\n",
    "        #print('i:', i, 'bs', bs)\n",
    "        ret, prob, score1 = predimg(model, data.copy(), bs)\n",
    "\n",
    "        y_pred = np.hstack((y_pred, ret[:bs]))\n",
    "        y_prob = np.hstack((y_prob, prob[:bs]))\n",
    "        y_score1 = np.hstack((y_score1, score1[:bs]))\n",
    "        #print(ret)\n",
    "        #print(prob)\n",
    "        #zzz\n",
    "    t2 = time.time()\n",
    "\n",
    "    ttime = t2 - t1\n",
    "    #print('All:', len(y_pred))\n",
    "    return y_pred, y_prob"
   ]
  },
  {
   "cell_type": "code",
   "execution_count": 6,
   "metadata": {
    "scrolled": true
   },
   "outputs": [],
   "source": [
    "opath = './testdemo/'"
   ]
  },
  {
   "cell_type": "code",
   "execution_count": 7,
   "metadata": {},
   "outputs": [],
   "source": [
    "labels = ['Contaminations', 'Cryptosporidium', 'Giardia', '1.54um beads', '3um beads', '4um beads', '4.6um beads', '5um beads', '5.64um beads', '8um beads', '10um beads', '12um beads', '15um beads']\n"
   ]
  },
  {
   "cell_type": "code",
   "execution_count": 8,
   "metadata": {
    "scrolled": true
   },
   "outputs": [
    {
     "name": "stdout",
     "output_type": "stream",
     "text": [
      "{0: 0, 1: 1, 2: 10, 3: 11, 4: 12, 5: 2, 6: 3, 7: 4, 8: 5, 9: 6, 10: 7, 11: 8, 12: 9}\n"
     ]
    }
   ],
   "source": [
    "print(class_inv_map)"
   ]
  },
  {
   "cell_type": "code",
   "execution_count": 13,
   "metadata": {
    "scrolled": false
   },
   "outputs": [
    {
     "name": "stdout",
     "output_type": "stream",
     "text": [
      "Lens: 21 Blocks: 0 Bsize: 32 Rst: 21\n",
      "++++\n",
      "File: ./testdemo/c_4.png \t\tPredict:  Cryptosporidium \tConfidence:  0.995836615562439\n",
      "\n",
      "\n",
      "File: ./testdemo/ct_12.png \t\tPredict:  Contaminations \tConfidence:  0.9999997615814209\n",
      "\n",
      "\n",
      "File: ./testdemo/g_2.png \t\tPredict:  Giardia \tConfidence:  0.9999046325683594\n",
      "\n",
      "\n",
      "File: ./testdemo/c_3.png \t\tPredict:  Cryptosporidium \tConfidence:  0.9998962879180908\n",
      "\n",
      "\n",
      "File: ./testdemo/ct_9.png \t\tPredict:  Contaminations \tConfidence:  1.0\n",
      "\n",
      "\n",
      "File: ./testdemo/ct_8.png \t\tPredict:  Contaminations \tConfidence:  0.9999792575836182\n",
      "\n",
      "\n",
      "File: ./testdemo/15_1.png \t\tPredict:  15um beads \tConfidence:  1.0\n",
      "\n",
      "\n",
      "File: ./testdemo/ct_2.png \t\tPredict:  Contaminations \tConfidence:  0.9999996423721313\n",
      "\n",
      "\n",
      "File: ./testdemo/c_1.png \t\tPredict:  Cryptosporidium \tConfidence:  0.9999768733978271\n",
      "\n",
      "\n",
      "File: ./testdemo/ct_11.png \t\tPredict:  Contaminations \tConfidence:  0.9999213218688965\n",
      "\n",
      "\n",
      "File: ./testdemo/ct_3.png \t\tPredict:  Contaminations \tConfidence:  0.9999994039535522\n",
      "\n",
      "\n",
      "File: ./testdemo/ct_4.png \t\tPredict:  Contaminations \tConfidence:  0.9999972581863403\n",
      "\n",
      "\n",
      "File: ./testdemo/ct_10.png \t\tPredict:  Contaminations \tConfidence:  0.9976890087127686\n",
      "\n",
      "\n",
      "File: ./testdemo/ct_6.png \t\tPredict:  Contaminations \tConfidence:  0.999994158744812\n",
      "\n",
      "\n",
      "File: ./testdemo/15_2.png \t\tPredict:  15um beads \tConfidence:  1.0\n",
      "\n",
      "\n",
      "File: ./testdemo/g_3.png \t\tPredict:  Giardia \tConfidence:  0.9999998807907104\n",
      "\n",
      "\n",
      "File: ./testdemo/ct_7.png \t\tPredict:  Contaminations \tConfidence:  0.9999998807907104\n",
      "\n",
      "\n",
      "File: ./testdemo/ct_1.png \t\tPredict:  Contaminations \tConfidence:  0.9999997615814209\n",
      "\n",
      "\n",
      "File: ./testdemo/c_2.png \t\tPredict:  Cryptosporidium \tConfidence:  0.9999175071716309\n",
      "\n",
      "\n",
      "File: ./testdemo/ct_5.png \t\tPredict:  Contaminations \tConfidence:  0.9999270439147949\n",
      "\n",
      "\n",
      "File: ./testdemo/g_1.png \t\tPredict:  Giardia \tConfidence:  0.9999992847442627\n",
      "\n",
      "\n"
     ]
    }
   ],
   "source": [
    "oret={}\n",
    "\n",
    "data = glob.glob(opath + '/*.png')\n",
    "dlen = len(data)\n",
    "\n",
    "X_test =[]\n",
    "X_test = X_test + data\n",
    "\n",
    "y_pred, y_prob = genresult(X_test)\n",
    "print('++++')\n",
    "y_predt = np.vectorize(class_inv_map.get)(y_pred)\n",
    "\n",
    "for i in range(dlen):\n",
    "    print('File:', data[i] , '\\t\\tPredict: ', labels[y_predt[i]], '\\tConfidence: ', y_prob[i])\n",
    "    print()\n",
    "    print()\n",
    "\n"
   ]
  },
  {
   "cell_type": "code",
   "execution_count": null,
   "metadata": {
    "scrolled": true
   },
   "outputs": [],
   "source": [
    "\n",
    "del model\n",
    "gc.collect()"
   ]
  },
  {
   "cell_type": "code",
   "execution_count": null,
   "metadata": {},
   "outputs": [],
   "source": []
  },
  {
   "cell_type": "code",
   "execution_count": null,
   "metadata": {},
   "outputs": [],
   "source": []
  },
  {
   "cell_type": "code",
   "execution_count": null,
   "metadata": {},
   "outputs": [],
   "source": []
  },
  {
   "cell_type": "code",
   "execution_count": null,
   "metadata": {},
   "outputs": [],
   "source": []
  },
  {
   "cell_type": "code",
   "execution_count": null,
   "metadata": {},
   "outputs": [],
   "source": []
  },
  {
   "cell_type": "code",
   "execution_count": null,
   "metadata": {},
   "outputs": [],
   "source": []
  },
  {
   "cell_type": "code",
   "execution_count": null,
   "metadata": {
    "scrolled": false
   },
   "outputs": [],
   "source": []
  },
  {
   "cell_type": "code",
   "execution_count": null,
   "metadata": {},
   "outputs": [],
   "source": []
  },
  {
   "cell_type": "code",
   "execution_count": null,
   "metadata": {},
   "outputs": [],
   "source": []
  },
  {
   "cell_type": "code",
   "execution_count": null,
   "metadata": {},
   "outputs": [],
   "source": []
  },
  {
   "cell_type": "markdown",
   "metadata": {},
   "source": [
    "\n"
   ]
  },
  {
   "cell_type": "code",
   "execution_count": null,
   "metadata": {},
   "outputs": [],
   "source": []
  },
  {
   "cell_type": "code",
   "execution_count": null,
   "metadata": {},
   "outputs": [],
   "source": []
  },
  {
   "cell_type": "code",
   "execution_count": null,
   "metadata": {},
   "outputs": [],
   "source": []
  },
  {
   "cell_type": "code",
   "execution_count": null,
   "metadata": {},
   "outputs": [],
   "source": []
  },
  {
   "cell_type": "code",
   "execution_count": null,
   "metadata": {},
   "outputs": [],
   "source": []
  },
  {
   "cell_type": "code",
   "execution_count": null,
   "metadata": {},
   "outputs": [],
   "source": []
  },
  {
   "cell_type": "code",
   "execution_count": null,
   "metadata": {},
   "outputs": [],
   "source": []
  }
 ],
 "metadata": {
  "kernelspec": {
   "display_name": "Python 3",
   "language": "python",
   "name": "python3"
  },
  "language_info": {
   "codemirror_mode": {
    "name": "ipython",
    "version": 3
   },
   "file_extension": ".py",
   "mimetype": "text/x-python",
   "name": "python",
   "nbconvert_exporter": "python",
   "pygments_lexer": "ipython3",
   "version": "3.6.10"
  }
 },
 "nbformat": 4,
 "nbformat_minor": 2
}
